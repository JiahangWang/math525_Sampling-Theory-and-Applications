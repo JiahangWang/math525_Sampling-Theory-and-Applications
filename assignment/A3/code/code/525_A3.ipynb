{
 "cells": [
  {
   "cell_type": "code",
   "execution_count": 2,
   "id": "initial_id",
   "metadata": {
    "collapsed": true,
    "ExecuteTime": {
     "end_time": "2024-03-26T17:30:57.535599Z",
     "start_time": "2024-03-26T17:30:56.307834Z"
    }
   },
   "outputs": [],
   "source": [
    "import pandas as pd\n",
    "from sklearn.utils import resample\n",
    "import numpy as np\n",
    "from tqdm import tqdm\n",
    "import matplotlib.pyplot as plt\n",
    "seed = 1"
   ]
  },
  {
   "cell_type": "code",
   "outputs": [
    {
     "data": {
      "text/plain": "   Unnamed: 0  X  CODE_N       COMMUNE  BVQ_N  POPSDC99  LOG  LOGVAC  \\\n0           1  1   31001       AGASSAC  31239       121   65       9   \n1           2  2   31002        AIGNES  31033       193   99       7   \n2           3  3   31003  AIGREFEUILLE  31044       577  179       1   \n3           4  4   31004   AYGUESVIVES  31582      1815  656      15   \n4           5  5   31005          ALAN  31028       299  163       9   \n\n   STRATLOG   surf_m2  lat_centre  lon_centre  \n0         1   9511618   43.372490    0.886155  \n1         1  22017258   43.334563    1.586608  \n2         2   4608949   43.569188    1.585158  \n3         3  13328942   43.428642    1.594306  \n4         2  11439648   43.219979    0.927076  ",
      "text/html": "<div>\n<style scoped>\n    .dataframe tbody tr th:only-of-type {\n        vertical-align: middle;\n    }\n\n    .dataframe tbody tr th {\n        vertical-align: top;\n    }\n\n    .dataframe thead th {\n        text-align: right;\n    }\n</style>\n<table border=\"1\" class=\"dataframe\">\n  <thead>\n    <tr style=\"text-align: right;\">\n      <th></th>\n      <th>Unnamed: 0</th>\n      <th>X</th>\n      <th>CODE_N</th>\n      <th>COMMUNE</th>\n      <th>BVQ_N</th>\n      <th>POPSDC99</th>\n      <th>LOG</th>\n      <th>LOGVAC</th>\n      <th>STRATLOG</th>\n      <th>surf_m2</th>\n      <th>lat_centre</th>\n      <th>lon_centre</th>\n    </tr>\n  </thead>\n  <tbody>\n    <tr>\n      <th>0</th>\n      <td>1</td>\n      <td>1</td>\n      <td>31001</td>\n      <td>AGASSAC</td>\n      <td>31239</td>\n      <td>121</td>\n      <td>65</td>\n      <td>9</td>\n      <td>1</td>\n      <td>9511618</td>\n      <td>43.372490</td>\n      <td>0.886155</td>\n    </tr>\n    <tr>\n      <th>1</th>\n      <td>2</td>\n      <td>2</td>\n      <td>31002</td>\n      <td>AIGNES</td>\n      <td>31033</td>\n      <td>193</td>\n      <td>99</td>\n      <td>7</td>\n      <td>1</td>\n      <td>22017258</td>\n      <td>43.334563</td>\n      <td>1.586608</td>\n    </tr>\n    <tr>\n      <th>2</th>\n      <td>3</td>\n      <td>3</td>\n      <td>31003</td>\n      <td>AIGREFEUILLE</td>\n      <td>31044</td>\n      <td>577</td>\n      <td>179</td>\n      <td>1</td>\n      <td>2</td>\n      <td>4608949</td>\n      <td>43.569188</td>\n      <td>1.585158</td>\n    </tr>\n    <tr>\n      <th>3</th>\n      <td>4</td>\n      <td>4</td>\n      <td>31004</td>\n      <td>AYGUESVIVES</td>\n      <td>31582</td>\n      <td>1815</td>\n      <td>656</td>\n      <td>15</td>\n      <td>3</td>\n      <td>13328942</td>\n      <td>43.428642</td>\n      <td>1.594306</td>\n    </tr>\n    <tr>\n      <th>4</th>\n      <td>5</td>\n      <td>5</td>\n      <td>31005</td>\n      <td>ALAN</td>\n      <td>31028</td>\n      <td>299</td>\n      <td>163</td>\n      <td>9</td>\n      <td>2</td>\n      <td>11439648</td>\n      <td>43.219979</td>\n      <td>0.927076</td>\n    </tr>\n  </tbody>\n</table>\n</div>"
     },
     "execution_count": 3,
     "metadata": {},
     "output_type": "execute_result"
    }
   ],
   "source": [
    "file_path = 'data.csv'\n",
    "# Load the CSV file into a pandas DataFrame\n",
    "data = pd.read_csv(file_path)\n",
    "# Display the first few rows of the DataFrame to verify the data has been loaded correctly\n",
    "data.head()"
   ],
   "metadata": {
    "collapsed": false,
    "ExecuteTime": {
     "end_time": "2024-03-26T17:30:58.853477Z",
     "start_time": "2024-03-26T17:30:58.835810Z"
    }
   },
   "id": "1c2f6377ec39bb8b",
   "execution_count": 3
  },
  {
   "cell_type": "code",
   "outputs": [
    {
     "name": "stdout",
     "output_type": "stream",
     "text": [
      "True mean: 353.108\n"
     ]
    }
   ],
   "source": [
    "# Calculate the true mean of the column \"LOG\"\n",
    "true_mean = data['LOG'].mean()\n",
    "print(f\"True mean: {true_mean}\")"
   ],
   "metadata": {
    "collapsed": false,
    "ExecuteTime": {
     "end_time": "2024-03-26T17:31:01.885847Z",
     "start_time": "2024-03-26T17:31:01.882092Z"
    }
   },
   "id": "eed746076955cbad",
   "execution_count": 4
  },
  {
   "cell_type": "markdown",
   "source": [
    "## SRSWOR"
   ],
   "metadata": {
    "collapsed": false
   },
   "id": "595bead394ac6e89"
  },
  {
   "cell_type": "code",
   "outputs": [
    {
     "name": "stdout",
     "output_type": "stream",
     "text": [
      "Estimate: 352.509\n",
      "MSE: 2520.397\n"
     ]
    }
   ],
   "source": [
    "np.random.seed(seed)\n",
    "N = len(data)\n",
    "# Number of simulations\n",
    "n_simulations = 10000\n",
    "# Sample size for each simulation\n",
    "sample_size = 100\n",
    "\n",
    "# Empty list to store the estimates from each simulation\n",
    "estimates = []\n",
    "\n",
    "for _ in range(n_simulations):\n",
    "    # Sample without replacement\n",
    "    sample = resample(data['LOG'], replace=False, n_samples=sample_size)\n",
    "    # Calculate the HT estimator for the sample mean\n",
    "    ht_estimator = sample.mean()\n",
    "    # Store the estimate\n",
    "    estimates.append(ht_estimator)\n",
    "\n",
    "# Calculate the mean square error\n",
    "mse_SRSWOR = np.mean([(x - true_mean) ** 2 for x in estimates])\n",
    "mean_estimate_SRSWOR = np.mean(estimates)\n",
    "\n",
    "print(f\"Estimate: {mean_estimate_SRSWOR:.3f}\")\n",
    "print(f\"MSE: {mse_SRSWOR:.3f}\")"
   ],
   "metadata": {
    "collapsed": false,
    "ExecuteTime": {
     "end_time": "2024-03-26T17:31:05.265556Z",
     "start_time": "2024-03-26T17:31:04.303893Z"
    }
   },
   "id": "54ba80348db69353",
   "execution_count": 5
  },
  {
   "cell_type": "markdown",
   "source": [
    "## Bernoulli Sampling"
   ],
   "metadata": {
    "collapsed": false
   },
   "id": "992e00205585d6f8"
  },
  {
   "cell_type": "code",
   "outputs": [
    {
     "name": "stdout",
     "output_type": "stream",
     "text": [
      "Estimate: 352.078\n",
      "MSE: 2517.749\n",
      "Relative efficiency: 99.895\n"
     ]
    }
   ],
   "source": [
    "np.random.seed(seed)\n",
    "# Bernoulli sampling function\n",
    "def bernoulli_sampling(data, sample_size):\n",
    "    # Generate a mask for selection with the same probability for each item\n",
    "    probabilities = np.full(len(data), sample_size / len(data))\n",
    "    # Draw samples using the Bernoulli distribution\n",
    "    selected = np.random.binomial(1, probabilities).astype(bool)\n",
    "    return data[selected]\n",
    "\n",
    "# Run the Monte Carlo simulation with Bernoulli sampling\n",
    "bernoulli_estimates = []\n",
    "\n",
    "for _ in range(n_simulations):\n",
    "    # Bernoulli sample\n",
    "    sample = bernoulli_sampling(data['LOG'], sample_size)\n",
    "    # Calculate the HT estimator for the sample mean\n",
    "    ht_estimator = sample.mean()\n",
    "    # Store the estimate\n",
    "    bernoulli_estimates.append(ht_estimator)\n",
    "\n",
    "# Calculate the mean square error for Bernoulli sampling\n",
    "mse_bernoulli = np.mean([(x - true_mean)**2 for x in bernoulli_estimates])\n",
    "mean_estimate_bernoulli = np.mean(bernoulli_estimates)\n",
    "re_bernoulli = 100*(mse_bernoulli / mse_SRSWOR)\n",
    "\n",
    "print(f\"Estimate: {mean_estimate_bernoulli:.3f}\")\n",
    "print(f\"MSE: {mse_bernoulli:.3f}\")\n",
    "print(f\"Relative efficiency: {re_bernoulli:.3f}\")"
   ],
   "metadata": {
    "collapsed": false,
    "ExecuteTime": {
     "end_time": "2024-03-21T08:02:25.376202Z",
     "start_time": "2024-03-21T08:02:25.008599Z"
    }
   },
   "id": "b0df781538fea55d",
   "execution_count": 5
  },
  {
   "cell_type": "markdown",
   "source": [
    "## Systematic Sampling"
   ],
   "metadata": {
    "collapsed": false
   },
   "id": "c091c29647897051"
  },
  {
   "cell_type": "code",
   "outputs": [
    {
     "name": "stdout",
     "output_type": "stream",
     "text": [
      "Estimate: 353.281\n",
      "MSE: 2116.191\n",
      "Relative efficiency: 83.963\n"
     ]
    }
   ],
   "source": [
    "np.random.seed(seed)\n",
    "# Systematic sampling function\n",
    "def systematic_sampling(data, sample_size):\n",
    "    # Determine the sampling interval\n",
    "    interval = len(data) // sample_size\n",
    "    # Random start within the first interval\n",
    "    start = np.random.randint(0, interval)\n",
    "    # Select elements with a fixed interval\n",
    "    indices = np.arange(start, len(data), interval)\n",
    "    return data.iloc[indices]\n",
    "\n",
    "# Run the Monte Carlo simulation with Systematic sampling\n",
    "systematic_estimates = []\n",
    "\n",
    "for _ in range(n_simulations):\n",
    "    # Systematic sample\n",
    "    sample = systematic_sampling(data['LOG'], sample_size)\n",
    "    # Calculate the HT estimator for the sample mean\n",
    "    ht_estimator_systematic = sample.mean()\n",
    "    # Store the estimate\n",
    "    systematic_estimates.append(ht_estimator_systematic)\n",
    "\n",
    "# Calculate the mean square error for Systematic sampling\n",
    "mse_systematic = np.mean([(x - true_mean)**2 for x in systematic_estimates])\n",
    "mean_estimate_systematic = np.mean(systematic_estimates)\n",
    "re_systematic = 100*(mse_systematic / mse_SRSWOR)\n",
    "\n",
    "print(f\"Estimate: {mean_estimate_systematic:.3f}\")\n",
    "print(f\"MSE: {mse_systematic:.3f}\")\n",
    "print(f\"Relative efficiency: {re_systematic:.3f}\")"
   ],
   "metadata": {
    "collapsed": false,
    "ExecuteTime": {
     "end_time": "2024-03-21T08:02:25.738835Z",
     "start_time": "2024-03-21T08:02:25.376798Z"
    }
   },
   "id": "5bb2235c7f587e9e",
   "execution_count": 6
  },
  {
   "cell_type": "markdown",
   "source": [
    "## Systematic Sampling (Ordering the data)\n",
    "\n",
    "Reordering the data based on the data in column 'POPSDC99'"
   ],
   "metadata": {
    "collapsed": false
   },
   "id": "7b2f85a2561132ac"
  },
  {
   "cell_type": "code",
   "outputs": [
    {
     "name": "stdout",
     "output_type": "stream",
     "text": [
      "Estimate: 353.106\n",
      "MSE: 203.470\n",
      "Relative efficiency: 8.073\n"
     ]
    }
   ],
   "source": [
    "np.random.seed(seed)\n",
    "# Sorting 'data' based on the values in the \"LOG\" column\n",
    "data_ordered = data.sort_values(by='POPSDC99')\n",
    "\n",
    "# Systematic sampling function\n",
    "def systematic_sampling(data, sample_size):\n",
    "    # Determine the sampling interval\n",
    "    interval = len(data) // sample_size\n",
    "    # Random start within the first interval\n",
    "    start = np.random.randint(0, interval)\n",
    "    # Select elements with a fixed interval\n",
    "    indices = np.arange(start, len(data), interval)\n",
    "    return data.iloc[indices]\n",
    "\n",
    "# Run the Monte Carlo simulation with Systematic sampling\n",
    "systematic_estimates = []\n",
    "\n",
    "for _ in range(n_simulations):\n",
    "    # Systematic sample\n",
    "    sample = systematic_sampling(data_ordered['LOG'], sample_size)\n",
    "    # Calculate the HT estimator for the sample mean\n",
    "    ht_estimator_systematic = sample.mean()\n",
    "    # Store the estimate\n",
    "    systematic_estimates.append(ht_estimator_systematic)\n",
    "\n",
    "# Calculate the mean square error for Systematic sampling\n",
    "mse_systematic = np.mean([(x - true_mean)**2 for x in systematic_estimates])\n",
    "mean_estimate_systematic = np.mean(systematic_estimates)\n",
    "re_systematic = 100*(mse_systematic / mse_SRSWOR)\n",
    "\n",
    "print(f\"Estimate: {mean_estimate_systematic:.3f}\")\n",
    "print(f\"MSE: {mse_systematic:.3f}\")\n",
    "print(f\"Relative efficiency: {re_systematic:.3f}\")"
   ],
   "metadata": {
    "collapsed": false,
    "ExecuteTime": {
     "end_time": "2024-03-26T17:31:10.107339Z",
     "start_time": "2024-03-26T17:31:09.708268Z"
    }
   },
   "id": "720b3a7ffee72a60",
   "execution_count": 6
  },
  {
   "cell_type": "markdown",
   "source": [
    "## Systematic Sampling (Unequal inclusion probability)\n",
    "\n",
    "The inclusion probability is based on the data in column 'POPSDC99'\n",
    "\n",
    "$\\pi_k = \\frac{n x_k}{\\sum_{x \\in u} x_k}$ "
   ],
   "metadata": {
    "collapsed": false
   },
   "id": "4efd3902263b5590"
  },
  {
   "cell_type": "code",
   "outputs": [
    {
     "name": "stderr",
     "output_type": "stream",
     "text": [
      "100%|██████████| 10000/10000 [00:23<00:00, 426.00it/s]"
     ]
    },
    {
     "name": "stdout",
     "output_type": "stream",
     "text": [
      "Estimate: 387.523\n",
      "MSE: 1190.184\n",
      "Relative efficiency: 47.222\n"
     ]
    },
    {
     "name": "stderr",
     "output_type": "stream",
     "text": [
      "\n"
     ]
    }
   ],
   "source": [
    "def systematic_sampling(probabilities, sample_size):\n",
    "    # Calculate the cumulative sum of the probabilities\n",
    "    cum_prob = np.cumsum(probabilities)\n",
    "    # Generate a random start from 0 to the interval length\n",
    "    interval = 1.0 / sample_size\n",
    "    start = np.random.uniform(0, interval)\n",
    "    # Determine the systematic sample indexes\n",
    "    indexes = []\n",
    "    for i in range(sample_size):\n",
    "        indexes.append(np.where(cum_prob >= start + interval * i)[0][0])\n",
    "    return indexes\n",
    "\n",
    "# Function to run Monte Carlo simulation with Systematic Sampling\n",
    "def monte_carlo_systematic_sampling(data, sample_size, N, num_simulations):\n",
    "    systematic_ht_estimates = []\n",
    "    for _ in tqdm(range(num_simulations)):\n",
    "        # Calculate inclusion probabilities based on 'POPSDC99'\n",
    "        x_k = data['POPSDC99']\n",
    "        sum_x_k = x_k.sum()\n",
    "        pi_k = (sample_size * x_k) / sum_x_k\n",
    "\n",
    "        # Perform systematic sampling based on cumulative inclusion probabilities\n",
    "        sample_indices = systematic_sampling(pi_k, sample_size)\n",
    "        sampled_data = data.iloc[sample_indices]\n",
    "\n",
    "        # Calculate the HT estimator for the mean µ̂_π\n",
    "        mu_hat_pi = (sampled_data['LOG'] / pi_k.iloc[sample_indices]).sum() / N\n",
    "        systematic_ht_estimates.append(mu_hat_pi)\n",
    "\n",
    "    # Calculate the estimated mean and MSE over the simulations\n",
    "    mean_estimate_systematic = np.mean(systematic_ht_estimates)\n",
    "    mse_systematic = np.mean((np.array(systematic_ht_estimates) - true_mean) ** 2)\n",
    "    \n",
    "    return mean_estimate_systematic, mse_systematic\n",
    "\n",
    "# Run the simulation\n",
    "mean_estimate_systematic, mse_systematic = monte_carlo_systematic_sampling(data, sample_size, len(data), 10000)\n",
    "re_systematic = 100*(mse_systematic / mse_SRSWOR)\n",
    "\n",
    "print(f\"Estimate: {mean_estimate_systematic:.3f}\")\n",
    "print(f\"MSE: {mse_systematic:.3f}\")\n",
    "print(f\"Relative efficiency: {re_systematic:.3f}\")"
   ],
   "metadata": {
    "collapsed": false,
    "ExecuteTime": {
     "end_time": "2024-03-21T08:02:49.558631Z",
     "start_time": "2024-03-21T08:02:26.061780Z"
    }
   },
   "id": "d63410385a207340",
   "execution_count": 8
  },
  {
   "cell_type": "markdown",
   "source": [
    "## Stratified sampling (Proportional Allocation)\n",
    "\n",
    "The strata size calculation is based on the data in column 'STRATLOG' (4 stratum)\n",
    "\n",
    "$\\frac{n_h}{N_h} = \\frac{n}{N}$"
   ],
   "metadata": {
    "collapsed": false
   },
   "id": "b63c149aaccfec4c"
  },
  {
   "cell_type": "code",
   "outputs": [
    {
     "name": "stderr",
     "output_type": "stream",
     "text": [
      "100%|██████████| 10000/10000 [00:08<00:00, 1143.88it/s]"
     ]
    },
    {
     "name": "stdout",
     "output_type": "stream",
     "text": [
      "Estimate: 353.251\n",
      "MSE: 542.217\n",
      "Relative efficiency: 21.513\n"
     ]
    },
    {
     "name": "stderr",
     "output_type": "stream",
     "text": [
      "\n"
     ]
    }
   ],
   "source": [
    "np.random.seed(seed)  \n",
    "# Adjusted stratified sampling function using proportional allocation to use HT estimator\n",
    "def stratified_sampling_proportional(data, strata_col, target_col, total_sample_size):\n",
    "    grouped_data = data.groupby(strata_col)\n",
    "    N = len(data)  # Total population size\n",
    "    stratum_proportions = grouped_data.size() / N\n",
    "    stratum_sample_sizes = np.round(stratum_proportions * total_sample_size).astype(int)\n",
    "    stratum_sizes = grouped_data.size()\n",
    "\n",
    "    ht_estimates = []\n",
    "    for stratum, group in grouped_data:\n",
    "        stratum_sample_size = stratum_sample_sizes[stratum]\n",
    "        if stratum_sample_size > 0:  # Ensure we have a positive sample size\n",
    "            stratum_sample = group[target_col].sample(n=stratum_sample_size, replace=False, random_state=np.random.randint(0, 10000))\n",
    "            stratum_mean = stratum_sample.mean()\n",
    "            weight = stratum_sizes[stratum] / N\n",
    "            ht_estimate = weight * stratum_mean\n",
    "            ht_estimates.append(ht_estimate)\n",
    "\n",
    "    # Sum over all strata to get the overall HT estimator\n",
    "    ht_mu_pi = sum(ht_estimates)\n",
    "    return ht_mu_pi\n",
    "\n",
    "# Adjusted Monte Carlo simulation using the stratified sampling with HT estimator\n",
    "stratified_ht_estimates_proportional = []\n",
    "\n",
    "for _ in tqdm(range(n_simulations)):\n",
    "    ht_mu_pi = stratified_sampling_proportional(data, 'STRATLOG', 'LOG', sample_size)\n",
    "    stratified_ht_estimates_proportional.append(ht_mu_pi)\n",
    "\n",
    "# Calculate the mean and MSE of the HT estimates\n",
    "mean_estimate_stratified_proportional = np.mean(stratified_ht_estimates_proportional)\n",
    "mse_stratified_proportional = np.mean([(estimate - true_mean) ** 2 for estimate in stratified_ht_estimates_proportional])\n",
    "re_stratified_proportional = 100*(mse_stratified_proportional / mse_SRSWOR)\n",
    "\n",
    "print(f\"Estimate: {mean_estimate_stratified_proportional:.3f}\")\n",
    "print(f\"MSE: {mse_stratified_proportional:.3f}\")\n",
    "print(f\"Relative efficiency: {re_stratified_proportional:.3f}\")"
   ],
   "metadata": {
    "collapsed": false,
    "ExecuteTime": {
     "end_time": "2024-03-21T08:02:58.308423Z",
     "start_time": "2024-03-21T08:02:49.559708Z"
    }
   },
   "id": "828a8aa7308219e0",
   "execution_count": 9
  },
  {
   "cell_type": "markdown",
   "source": [
    "## Stratified sampling (Optimal Allocation)\n",
    "\n",
    "The strata size calculation is based on the data in column 'POPSDC99' (4 stratum)\n",
    "\n",
    "$n_h = \\frac{n N_h S_{xh}}{\\sum_{h \\in [H] N_h S_{xh}}}$"
   ],
   "metadata": {
    "collapsed": false
   },
   "id": "803317f828196db3"
  },
  {
   "cell_type": "code",
   "outputs": [
    {
     "name": "stderr",
     "output_type": "stream",
     "text": [
      "100%|██████████| 10000/10000 [00:06<00:00, 1621.36it/s]"
     ]
    },
    {
     "name": "stdout",
     "output_type": "stream",
     "text": [
      "Estimate: 353.231\n",
      "MSE: 421.355\n",
      "Relative efficiency: 16.718\n"
     ]
    },
    {
     "name": "stderr",
     "output_type": "stream",
     "text": [
      "\n"
     ]
    }
   ],
   "source": [
    "# Stratify 'LOG' into 4 strata based on 'POPSDC99'\n",
    "data['stratum'] = pd.qcut(data['POPSDC99'], q=4, labels=False)\n",
    "\n",
    "# Calculate stratum weights \n",
    "stratum_weights = data.groupby('stratum')['POPSDC99'].count() / N\n",
    "\n",
    "# Calculate stratum standard deviations \n",
    "stratum_std = data.groupby('stratum')['POPSDC99'].std()\n",
    "\n",
    "# Calculate optimal sample size for each stratum using the provided formula\n",
    "optimal_n_h = (sample_size * stratum_weights * stratum_std) / (stratum_weights * stratum_std).sum()\n",
    "\n",
    "# Ensure that the sum of the stratum sample sizes is equal to the total sample size\n",
    "optimal_n_h = optimal_n_h.round().astype(int)\n",
    "optimal_n_h.iloc[-1] = sample_size - optimal_n_h.iloc[:-1].sum()\n",
    "\n",
    "# Function to perform stratified sampling and calculate HT estimator\n",
    "def stratified_ht_estimator_simulation(data, stratum_weights, optimal_n_h, N):\n",
    "    ht_estimates = []\n",
    "\n",
    "    # Loop over each stratum\n",
    "    for stratum, n_h in optimal_n_h.items():\n",
    "        # Draw a sample from each stratum\n",
    "        stratum_data = data[data['stratum'] == stratum]\n",
    "        sample = stratum_data.sample(n=n_h, replace=False)\n",
    "        \n",
    "        # Calculate stratum mean ȳ_h\n",
    "        stratum_mean = sample['LOG'].mean()\n",
    "        \n",
    "        # Calculate stratum's contribution to HT estimator\n",
    "        ht_contribution = (stratum_weights[stratum] * stratum_mean)\n",
    "        ht_estimates.append(ht_contribution)\n",
    "    \n",
    "    # Sum contributions from each stratum to get the HT estimator\n",
    "    mu_hat_pi = sum(ht_estimates)\n",
    "    \n",
    "    return mu_hat_pi\n",
    "\n",
    "# Run the Monte Carlo simulation\n",
    "stratified_ht_estimates = [stratified_ht_estimator_simulation(data, stratum_weights, optimal_n_h, N) for _ in tqdm(range(10000))]\n",
    "\n",
    "# Calculate the estimated mean and MSE over the simulations\n",
    "mean_estimate_stratified_optimal = np.mean(stratified_ht_estimates)\n",
    "mse_stratified_optimal = np.mean((np.array(stratified_ht_estimates) - true_mean) ** 2)\n",
    "re_stratified_optimal = 100*(mse_stratified_optimal / mse_SRSWOR)\n",
    "\n",
    "print(f\"Estimate: {mean_estimate_stratified_optimal:.3f}\")\n",
    "print(f\"MSE: {mse_stratified_optimal:.3f}\")\n",
    "print(f\"Relative efficiency: {re_stratified_optimal:.3f}\")"
   ],
   "metadata": {
    "collapsed": false,
    "ExecuteTime": {
     "end_time": "2024-03-21T08:03:04.615666Z",
     "start_time": "2024-03-21T08:02:58.432306Z"
    }
   },
   "id": "5f4811626ce64c84",
   "execution_count": 11
  },
  {
   "cell_type": "markdown",
   "source": [
    "## Poisson sampling\n",
    "\n",
    "The inclusion probability is based on the data in column 'POPSDC99'\n",
    "\n",
    "$\\pi_k = \\frac{n x_k}{\\sum_{x \\in u} x_k}$ "
   ],
   "metadata": {
    "collapsed": false
   },
   "id": "b12d9423d828b008"
  },
  {
   "cell_type": "code",
   "outputs": [
    {
     "name": "stderr",
     "output_type": "stream",
     "text": [
      "100%|██████████| 10000/10000 [00:03<00:00, 2633.03it/s]"
     ]
    },
    {
     "name": "stdout",
     "output_type": "stream",
     "text": [
      "Estimate: 365.029\n",
      "MSE: 339.01\n",
      "Relative efficiency: 13.45\n"
     ]
    },
    {
     "name": "stderr",
     "output_type": "stream",
     "text": [
      "\n"
     ]
    }
   ],
   "source": [
    "# using 'POPSDC99' for inclusion probabilities\n",
    "def ht_estimator_simulation(data, n_exp, N):\n",
    "    # Inclusion probabilities for each unit based on 'POPSDC99'\n",
    "    x_k = data['POPSDC99']\n",
    "    sum_x_k = x_k.sum()\n",
    "    pi_k = (n_exp * x_k) / sum_x_k\n",
    "\n",
    "    # Draw a sample using these inclusion probabilities\n",
    "    sample_indices = np.random.choice(data.index, size=n_exp, replace=False, p=pi_k/pi_k.sum())\n",
    "    sampled_data = data.loc[sample_indices]\n",
    "\n",
    "    # Calculate the HT estimator for the mean µ̂_π\n",
    "    mu_hat_pi = (sampled_data['LOG'] / pi_k[sample_indices]).sum() / N\n",
    "    \n",
    "    return mu_hat_pi\n",
    "\n",
    "\n",
    "# Run the Monte Carlo simulation\n",
    "ht_estimates = [ht_estimator_simulation(data, sample_size, N) for _ in tqdm(range(10000))]\n",
    "\n",
    "# Calculate the estimated mean and MSE over the simulations\n",
    "mean_estimate_poisson = np.mean(ht_estimates)\n",
    "mse_poisson = np.mean((np.array(ht_estimates) - true_mean) ** 2)\n",
    "re_poisson = 100 * (mse_poisson / mse_SRSWOR)\n",
    "\n",
    "# Print the results\n",
    "print(f\"Estimate: {mean_estimate_poisson:.3f}\")\n",
    "print(f\"MSE: {mse_poisson:.2f}\")\n",
    "print(f\"Relative efficiency: {re_poisson:.2f}\")"
   ],
   "metadata": {
    "collapsed": false,
    "ExecuteTime": {
     "end_time": "2024-03-21T08:03:08.419332Z",
     "start_time": "2024-03-21T08:03:04.616482Z"
    }
   },
   "id": "2adf08e1fc22b02a",
   "execution_count": 12
  },
  {
   "cell_type": "markdown",
   "source": [
    "## The linearity between 'POPSDC99' and 'LOG'"
   ],
   "metadata": {
    "collapsed": false
   },
   "id": "8712866b000e65a5"
  },
  {
   "cell_type": "code",
   "outputs": [
    {
     "data": {
      "text/plain": "<Figure size 500x400 with 1 Axes>",
      "image/png": "[encoded data removed]"
     },
     "metadata": {},
     "output_type": "display_data"
    }
   ],
   "source": [
    "# Scatter plot of POPSDC99 vs LOG\n",
    "plt.figure(figsize=(5, 4))\n",
    "plt.scatter(data['POPSDC99'], data['LOG'], alpha=0.5)\n",
    "plt.title('POPSDC99 vs LOG')\n",
    "plt.xlabel('POPSDC99')\n",
    "plt.ylabel('LOG')\n",
    "plt.grid(True)\n",
    "plt.show()"
   ],
   "metadata": {
    "collapsed": false,
    "ExecuteTime": {
     "end_time": "2024-03-22T05:09:07.342722Z",
     "start_time": "2024-03-22T05:09:07.260470Z"
    }
   },
   "id": "4f7e46fed56ab815",
   "execution_count": 21
  },
  {
   "cell_type": "markdown",
   "source": [
    "## Results\n",
    "\n",
    "- SRSWOR\n",
    "    - MSE: 2520.397\n",
    "- Bernoulli Sampling\n",
    "    - MSE: 2517.749\n",
    "    - Relative efficiency: 99.895\n",
    "- Systematic Sampling\n",
    "    - MSE: 2116.191\n",
    "    - Relative efficiency: 83.963\n",
    "- Systematic Sampling (Ordering the data)\n",
    "    - MSE: 203.470\n",
    "    - Relative efficiency: 8.073\n",
    "- Systematic Sampling (Unequal inclusion probability)\n",
    "    - MSE: 1190.184\n",
    "    - Relative efficiency: 47.222\n",
    "- Stratified sampling (Proportional Allocation)\n",
    "    - MSE: 542.217\n",
    "    - Relative efficiency: 21.513\n",
    "- Stratified sampling (Optimal Allocation)\n",
    "    - MSE: 421.355\n",
    "    - Relative efficiency: 16.718\n",
    "- Poisson sampling\n",
    "    - MSE: 339.01\n",
    "    - Relative efficiency: 13.45\n",
    "\n",
    "\n",
    "## Analysis\n",
    "\n",
    "- **Simple Random Sampling Without Replacement (SRSWOR)**: \n",
    "    - Serving as the baseline for comparison, SRSWOR has an MSE of 2520.397. It is a versatile method, but not the most efficient in the presence of structure or variability within the population.\n",
    "\n",
    "- **Bernoulli Sampling**: \n",
    "    - Very similar in MSE to SRSWOR, which implies nearly identical performance in terms of variance and bias. The RE close to 100% suggests it's nearly as efficient as SRSWOR under the conditions tested.\n",
    "\n",
    "- **Systematic Sampling**: \n",
    "    - Offers a significant improvement over SRSWOR and Bernoulli sampling in terms of MSE, suggesting a more consistent estimator. The RE indicates it's more efficient than SRSWOR by about 16%.\n",
    "\n",
    "- **Systematic Sampling (Ordering the Data)**: \n",
    "    - This design drastically reduces the MSE, indicating a highly effective method for this particular dataset, especially if the data's order correlates with the value being estimated. The RE of 8.073% indicates an exceptional increase in efficiency, potentially due to reduced variance within systematic intervals. The ordering also benefits from the good linear relationship between data in column 'LOG' and 'POPSDC99' since we don't have the full knowledge of the population\n",
    "\n",
    "- **Systematic Sampling (Unequal Inclusion Probability)**: \n",
    "    - Shows improvement over the base SRSWOR but not as dramatic as when ordering is considered. It suggests that adjusting for unequal probabilities can improve efficiency, but perhaps not as effectively as when the data exhibits a natural or induced order.\n",
    "\n",
    "- **Stratified Sampling (Proportional Allocation)**: \n",
    "    - This significantly reduces the MSE compared to SRSWOR, highlighting the advantage of stratification when population subgroups are more homogenous than the overall population. The RE indicates a considerable improvement in efficiency.\n",
    "\n",
    "- **Stratified Sampling (Optimal Allocation)**: \n",
    "    - Further improves on proportional allocation by minimizing MSE, showcasing the benefit of allocating more samples to strata with greater variability. And it is also due to the good linear relationship between data in column 'LOG' and 'POPSDC99' .The improvement in RE underscores the importance of stratification in achieving efficient estimations.\n",
    "\n",
    "- **Poisson Sampling**: \n",
    "    - Exhibits the lowest MSE among the methods tested, indicating highly accurate and reliable estimations. The relatively high RE suggests that leveraging the variability within the population to guide sampling can significantly enhance efficiency. The good result also benefits from the good linear relationship between data in column 'LOG' and 'POPSDC99'\n",
    "\n",
    "## Conclusion\n",
    "\n",
    "The efficiency and accuracy of sampling designs can vary significantly depending on the characteristics of the population and the specifics of each method. Systematic sampling, particularly when data ordering is considered, and stratified sampling, especially with optimal allocation, have shown substantial improvements in estimation accuracy and efficiency over simple random sampling. Poisson sampling also enhances efficiency by effectively leveraging population variability. \n",
    "\n",
    "The strong linear relationship between the data in columns 'LOG' and 'POPSDC99' significantly impacts the effectiveness of the sampling designs evaluated, particularly in those methods that leverage this relationship to enhance sampling efficiency and estimation accuracy. This underscores the importance of a good choice of auxiliary variable when implementing sampling design."
   ],
   "metadata": {
    "collapsed": false
   },
   "id": "b31cd0b2a5f9f970"
  }
 ],
 "metadata": {
  "kernelspec": {
   "display_name": "Python 3",
   "language": "python",
   "name": "python3"
  },
  "language_info": {
   "codemirror_mode": {
    "name": "ipython",
    "version": 2
   },
   "file_extension": ".py",
   "mimetype": "text/x-python",
   "name": "python",
   "nbconvert_exporter": "python",
   "pygments_lexer": "ipython2",
   "version": "2.7.6"
  }
 },
 "nbformat": 4,
 "nbformat_minor": 5
}
